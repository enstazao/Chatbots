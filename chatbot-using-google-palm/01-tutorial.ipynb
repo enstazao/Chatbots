{
 "cells": [
  {
   "cell_type": "markdown",
   "id": "1412e53c-9372-4d18-be50-51978205ad82",
   "metadata": {
    "tags": []
   },
   "source": [
    "## Google Palm"
   ]
  },
  {
   "cell_type": "code",
   "execution_count": 1,
   "id": "39dca82f-82b1-4738-a4f4-3edb848a759e",
   "metadata": {
    "tags": []
   },
   "outputs": [],
   "source": [
    "from langchain.llms import GooglePalm\n",
    "\n",
    "llm = GooglePalm(google_api_key='', temperature=0.7)"
   ]
  },
  {
   "cell_type": "code",
   "execution_count": 2,
   "id": "54a3be4d-49fd-4a0e-8be1-9b37c4f979ee",
   "metadata": {
    "tags": []
   },
   "outputs": [
    {
     "name": "stdout",
     "output_type": "stream",
     "text": [
      "Artificial Intelligence (AI) is rapidly changing the world as we know it. From self-driving cars to facial recognition software, AI is already having a major impact on our lives. And it's only going to become more prevalent in the years to come.\n",
      "\n",
      "In 2023, we can expect to see even more advances in AI technology. Here are a few of the things that AI is likely to be used for in the next year:\n",
      "\n",
      "* **Self-driving cars** will become more common. By 2023, it's possible that we'll see self-driving cars on the road in major cities around the world. These cars will use AI to navigate traffic, avoid obstacles, and keep passengers safe.\n",
      "* **Facial recognition software** will become more sophisticated. Facial recognition software is already being used for security purposes, but in 2023, it's likely to become more widespread. This technology could be used to identify criminals, track people's movements, and even unlock your phone.\n",
      "* **AI-powered customer service** will become more common. AI-powered customer service chatbots are already being used by businesses to provide customer support. In 2023, we can expect to see these chatbots become more sophisticated and able to handle more complex customer requests.\n",
      "* **AI-powered medical diagnosis** will become more widespread. AI-powered medical diagnosis tools are already being used to help doctors diagnose diseases. In 2023, we can expect to see these tools become more widely adopted, which could lead to earlier diagnosis and more effective treatment.\n",
      "\n",
      "These are just a few of the ways that AI is likely to impact our lives in 2023. As AI technology continues to develop, we can expect to see even more changes in the years to come.\n",
      "\n",
      "Here are some additional predictions for how AI will impact our lives in 2023:\n",
      "\n",
      "* **AI will be used to create more personalized experiences for consumers.** AI-powered algorithms will be able to track our online activity and preferences, and use this information to deliver more relevant and personalized content. This could mean seeing more tailored ads, recommendations, and even products.\n",
      "* **AI will be used to automate more tasks in the workplace.** AI-powered robots and software will be able to perform tasks that are currently done by humans, such as customer service, data entry, and even medical diagnosis. This could lead to job losses for some workers, but it could also create new jobs in the field of AI development.\n",
      "* **AI will be used to solve some of the world's most pressing problems.** AI-powered technologies could be used to develop new treatments for diseases, create more efficient energy sources, and even combat climate change. By using AI to address these challenges, we could create a better future for everyone.\n",
      "\n",
      "The potential of AI is enormous. It has the power to change the world for the better, but it also has the potential to be used for harmful purposes. It's up to us to make sure that AI is used for good.\n"
     ]
    }
   ],
   "source": [
    "ai_intro = llm(\"Write about the Artificial Intelligence in 2023\")\n",
    "print(ai_intro)"
   ]
  },
  {
   "cell_type": "markdown",
   "id": "88be8825-f323-4d5a-95c9-d2ac1c4659de",
   "metadata": {
    "tags": []
   },
   "source": [
    "## Embeddings"
   ]
  },
  {
   "cell_type": "code",
   "execution_count": 2,
   "id": "96d69c28-f6ac-4e61-b694-c3db132742fe",
   "metadata": {
    "tags": []
   },
   "outputs": [],
   "source": [
    "from langchain.document_loaders.csv_loader import CSVLoader\n",
    "from langchain.vectorstores import FAISS\n",
    "from langchain.embeddings import HuggingFaceInstructEmbeddings"
   ]
  },
  {
   "cell_type": "markdown",
   "id": "480bb5ed-9b06-4152-ad14-99b206c9f578",
   "metadata": {
    "tags": []
   },
   "source": [
    "### Load the CSV File"
   ]
  },
  {
   "cell_type": "code",
   "execution_count": 3,
   "id": "e182bbf8-68df-4294-9200-dff499c91bc8",
   "metadata": {
    "tags": []
   },
   "outputs": [],
   "source": [
    "loader = CSVLoader(file_path='fastnuces_faqs.csv', source_column='prompt')\n",
    "data = loader.load()"
   ]
  },
  {
   "cell_type": "code",
   "execution_count": 4,
   "id": "bc54ed81-7760-4263-8400-d92e061f7efa",
   "metadata": {
    "tags": []
   },
   "outputs": [
    {
     "name": "stdout",
     "output_type": "stream",
     "text": [
      "load INSTRUCTOR_Transformer\n",
      "max_seq_length  512\n"
     ]
    }
   ],
   "source": [
    "instructor_embeddings = HuggingFaceInstructEmbeddings()"
   ]
  },
  {
   "cell_type": "code",
   "execution_count": 5,
   "id": "826f58e7-c03b-486a-ad84-19d232b58d38",
   "metadata": {
    "tags": []
   },
   "outputs": [],
   "source": [
    "vectordb = FAISS.from_documents(documents=data, embedding=instructor_embeddings)"
   ]
  },
  {
   "cell_type": "code",
   "execution_count": 8,
   "id": "32318077-c827-46da-970c-faa4594662de",
   "metadata": {
    "tags": []
   },
   "outputs": [
    {
     "name": "stdout",
     "output_type": "stream",
     "text": [
      "[Document(page_content='prompt: What undergraduate programs does FAST-NUCES offer?\\nresponse: FAST-NUCES offers a diverse range of undergraduate programs, including Computer Science, Electrical Engineering, Business Administration, Civil Engineering, and more. Check the official website for the complete list.', metadata={'source': 'What undergraduate programs does FAST-NUCES offer?', 'row': 0}), Document(page_content='prompt: What career services are available for graduating students?\\nresponse: FAST-NUCES provides comprehensive career services for graduating students, including resume building, interview preparation, and job placement assistance. The university has strong connections with leading employers.', metadata={'source': 'What career services are available for graduating students?', 'row': 21}), Document(page_content='prompt: Is there a mentorship program for incoming students?\\nresponse: Yes, FAST-NUCES has a mentorship program to support incoming students. New students are paired with experienced mentors who provide guidance, advice, and assistance with the academic transition.', metadata={'source': 'Is there a mentorship program for incoming students?', 'row': 15}), Document(page_content=\"prompt: Are there any specific internship programs for Computer Science students?\\nresponse: Yes, FAST-NUCES facilitates internships for Computer Science students through collaborations with industry partners. The university's career services office assists students in securing relevant internships.\", metadata={'source': 'Are there any specific internship programs for Computer Science students?', 'row': 3})]\n"
     ]
    }
   ],
   "source": [
    "retriever = vectordb.as_retriever()\n",
    "\n",
    "rdocs = retriever.get_relevant_documents(\"Ungraduate programs offered by the Fast-Nuces\")\n",
    "print(rdocs)"
   ]
  },
  {
   "cell_type": "markdown",
   "id": "55745420-801a-4928-a861-472983eecb9b",
   "metadata": {},
   "source": [
    "## Prompt Engineering"
   ]
  },
  {
   "cell_type": "code",
   "execution_count": 9,
   "id": "bbb7d06e-7cfa-4ebd-a2c5-b9ced73b954a",
   "metadata": {
    "tags": []
   },
   "outputs": [],
   "source": [
    "from langchain.prompts import PromptTemplate"
   ]
  },
  {
   "cell_type": "code",
   "execution_count": 15,
   "id": "026cfa5c-60ed-48d9-ae4e-0fb68747388e",
   "metadata": {
    "tags": []
   },
   "outputs": [],
   "source": [
    "prompt_template = \"\"\"Given the following context and a question, generate an answer based on this context only.\n",
    "In the answer try to provide as much text as possible from \"response\" section in the source document context without making much changes.\n",
    "If the answer is not found in the context, kindly state \"I don't know.\" Don't try to make up an answer.\n",
    "\n",
    "CONTEXT: {context}\n",
    "\n",
    "QUESTION: {question}\"\"\"\n",
    "\n",
    "PROMPT = PromptTemplate(\n",
    "    template=prompt_template, input_variables=[\"context\", \"question\"]\n",
    ")"
   ]
  },
  {
   "cell_type": "code",
   "execution_count": 16,
   "id": "42c9d96c-bd0a-4967-a636-f96b61f663ac",
   "metadata": {
    "tags": []
   },
   "outputs": [],
   "source": [
    "from langchain.chains import RetrievalQA"
   ]
  },
  {
   "cell_type": "code",
   "execution_count": 17,
   "id": "fe238efa-c2d7-4742-b0bb-3dd23e576f74",
   "metadata": {
    "tags": []
   },
   "outputs": [],
   "source": [
    "chain = RetrievalQA.from_chain_type(llm=llm, \n",
    "            chain_type=\"stuff\",\n",
    "            retriever=retriever,\n",
    "            input_key=\"query\",\n",
    "            return_source_documents=True,\n",
    "            chain_type_kwargs={\"prompt\": PROMPT})"
   ]
  },
  {
   "cell_type": "code",
   "execution_count": 18,
   "id": "e17df1f0-deb7-4807-be10-0e12d7a605b7",
   "metadata": {
    "tags": []
   },
   "outputs": [
    {
     "data": {
      "text/plain": [
       "{'query': 'how many campuses fast-nuces havve',\n",
       " 'result': 'FAST-NUCES has two campuses: the main campus in Islamabad and a satellite campus in Lahore.',\n",
       " 'source_documents': [Document(page_content='prompt: How does FAST-NUCES promote diversity and inclusion on campus?\\nresponse: FAST-NUCES promotes diversity and inclusion through cultural events, awareness campaigns, and inclusive policies. The university values a diverse student body and provides a supportive environment for all.', metadata={'source': 'How does FAST-NUCES promote diversity and inclusion on campus?', 'row': 5}),\n",
       "  Document(page_content='prompt: What measures are in place for campus safety and security?\\nresponse: FAST-NUCES prioritizes campus safety and security with trained personnel, surveillance systems, and emergency response protocols. The safety of students and staff is a top priority.', metadata={'source': 'What measures are in place for campus safety and security?', 'row': 17}),\n",
       "  Document(page_content='prompt: Tell me about the research facilities available for Electrical Engineering students.\\nresponse: Electrical Engineering students at FAST-NUCES have access to state-of-the-art research facilities, including well-equipped labs, research centers, and opportunities to collaborate on cutting-edge projects.', metadata={'source': 'Tell me about the research facilities available for Electrical Engineering students.', 'row': 4}),\n",
       "  Document(page_content=\"prompt: Tell me about the global alumni network of FAST-NUCES.\\nresponse: FAST-NUCES has a global alumni network comprising successful professionals across various industries. Alumni contribute to the university's growth and provide valuable insights to current students.\", metadata={'source': 'Tell me about the global alumni network of FAST-NUCES.', 'row': 14})]}"
      ]
     },
     "execution_count": 18,
     "metadata": {},
     "output_type": "execute_result"
    }
   ],
   "source": [
    "chain(\"how many campuses fast-nuces havve\")"
   ]
  },
  {
   "cell_type": "code",
   "execution_count": null,
   "id": "49630d30-f26d-4014-bfef-ff8238980084",
   "metadata": {},
   "outputs": [],
   "source": []
  }
 ],
 "metadata": {
  "kernelspec": {
   "display_name": "Python 3 (ipykernel)",
   "language": "python",
   "name": "python3"
  },
  "language_info": {
   "codemirror_mode": {
    "name": "ipython",
    "version": 3
   },
   "file_extension": ".py",
   "mimetype": "text/x-python",
   "name": "python",
   "nbconvert_exporter": "python",
   "pygments_lexer": "ipython3",
   "version": "3.11.5"
  }
 },
 "nbformat": 4,
 "nbformat_minor": 5
}
