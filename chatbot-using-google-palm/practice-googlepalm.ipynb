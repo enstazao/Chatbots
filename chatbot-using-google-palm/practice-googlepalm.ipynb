{
 "cells": [
  {
   "cell_type": "markdown",
   "id": "8858e989",
   "metadata": {
    "tags": []
   },
   "source": [
    "### Install the Python Modules"
   ]
  },
  {
   "cell_type": "code",
   "execution_count": 1,
   "id": "68ea5690",
   "metadata": {
    "tags": []
   },
   "outputs": [
    {
     "name": "stdout",
     "output_type": "stream",
     "text": [
      "Requirement already satisfied: google-generativeai in /home/jadi/anaconda3/envs/google-palm-env/lib/python3.11/site-packages (0.2.2)\n",
      "Requirement already satisfied: google-ai-generativelanguage==0.3.3 in /home/jadi/anaconda3/envs/google-palm-env/lib/python3.11/site-packages (from google-generativeai) (0.3.3)\n",
      "Requirement already satisfied: google-auth in /home/jadi/anaconda3/envs/google-palm-env/lib/python3.11/site-packages (from google-generativeai) (2.23.4)\n",
      "Requirement already satisfied: google-api-core in /home/jadi/anaconda3/envs/google-palm-env/lib/python3.11/site-packages (from google-generativeai) (2.12.0)\n",
      "Requirement already satisfied: protobuf in /home/jadi/anaconda3/envs/google-palm-env/lib/python3.11/site-packages (from google-generativeai) (4.25.0)\n",
      "Requirement already satisfied: tqdm in /home/jadi/anaconda3/envs/google-palm-env/lib/python3.11/site-packages (from google-generativeai) (4.66.1)\n",
      "Requirement already satisfied: proto-plus<2.0.0dev,>=1.22.0 in /home/jadi/anaconda3/envs/google-palm-env/lib/python3.11/site-packages (from google-ai-generativelanguage==0.3.3->google-generativeai) (1.22.3)\n",
      "Requirement already satisfied: googleapis-common-protos<2.0.dev0,>=1.56.2 in /home/jadi/anaconda3/envs/google-palm-env/lib/python3.11/site-packages (from google-api-core->google-generativeai) (1.61.0)\n",
      "Requirement already satisfied: requests<3.0.0.dev0,>=2.18.0 in /home/jadi/anaconda3/envs/google-palm-env/lib/python3.11/site-packages (from google-api-core->google-generativeai) (2.31.0)\n",
      "Requirement already satisfied: cachetools<6.0,>=2.0.0 in /home/jadi/anaconda3/envs/google-palm-env/lib/python3.11/site-packages (from google-auth->google-generativeai) (5.3.2)\n",
      "Requirement already satisfied: pyasn1-modules>=0.2.1 in /home/jadi/anaconda3/envs/google-palm-env/lib/python3.11/site-packages (from google-auth->google-generativeai) (0.3.0)\n",
      "Requirement already satisfied: rsa<5,>=3.1.4 in /home/jadi/anaconda3/envs/google-palm-env/lib/python3.11/site-packages (from google-auth->google-generativeai) (4.9)\n",
      "Requirement already satisfied: grpcio<2.0dev,>=1.33.2 in /home/jadi/anaconda3/envs/google-palm-env/lib/python3.11/site-packages (from google-api-core[grpc]!=2.0.*,!=2.1.*,!=2.10.*,!=2.2.*,!=2.3.*,!=2.4.*,!=2.5.*,!=2.6.*,!=2.7.*,!=2.8.*,!=2.9.*,<3.0.0dev,>=1.34.0->google-ai-generativelanguage==0.3.3->google-generativeai) (1.59.2)\n",
      "Requirement already satisfied: grpcio-status<2.0.dev0,>=1.33.2 in /home/jadi/anaconda3/envs/google-palm-env/lib/python3.11/site-packages (from google-api-core[grpc]!=2.0.*,!=2.1.*,!=2.10.*,!=2.2.*,!=2.3.*,!=2.4.*,!=2.5.*,!=2.6.*,!=2.7.*,!=2.8.*,!=2.9.*,<3.0.0dev,>=1.34.0->google-ai-generativelanguage==0.3.3->google-generativeai) (1.59.2)\n",
      "Requirement already satisfied: pyasn1<0.6.0,>=0.4.6 in /home/jadi/anaconda3/envs/google-palm-env/lib/python3.11/site-packages (from pyasn1-modules>=0.2.1->google-auth->google-generativeai) (0.5.0)\n",
      "Requirement already satisfied: charset-normalizer<4,>=2 in /home/jadi/anaconda3/envs/google-palm-env/lib/python3.11/site-packages (from requests<3.0.0.dev0,>=2.18.0->google-api-core->google-generativeai) (2.0.4)\n",
      "Requirement already satisfied: idna<4,>=2.5 in /home/jadi/anaconda3/envs/google-palm-env/lib/python3.11/site-packages (from requests<3.0.0.dev0,>=2.18.0->google-api-core->google-generativeai) (3.4)\n",
      "Requirement already satisfied: urllib3<3,>=1.21.1 in /home/jadi/anaconda3/envs/google-palm-env/lib/python3.11/site-packages (from requests<3.0.0.dev0,>=2.18.0->google-api-core->google-generativeai) (1.26.18)\n",
      "Requirement already satisfied: certifi>=2017.4.17 in /home/jadi/anaconda3/envs/google-palm-env/lib/python3.11/site-packages (from requests<3.0.0.dev0,>=2.18.0->google-api-core->google-generativeai) (2023.7.22)\n",
      "Requirement already satisfied: langchain in /home/jadi/anaconda3/envs/google-palm-env/lib/python3.11/site-packages (0.0.331)\n",
      "Requirement already satisfied: PyYAML>=5.3 in /home/jadi/anaconda3/envs/google-palm-env/lib/python3.11/site-packages (from langchain) (6.0.1)\n",
      "Requirement already satisfied: SQLAlchemy<3,>=1.4 in /home/jadi/anaconda3/envs/google-palm-env/lib/python3.11/site-packages (from langchain) (2.0.23)\n",
      "Requirement already satisfied: aiohttp<4.0.0,>=3.8.3 in /home/jadi/anaconda3/envs/google-palm-env/lib/python3.11/site-packages (from langchain) (3.8.6)\n",
      "Requirement already satisfied: anyio<4.0 in /home/jadi/anaconda3/envs/google-palm-env/lib/python3.11/site-packages (from langchain) (3.5.0)\n",
      "Requirement already satisfied: dataclasses-json<0.7,>=0.5.7 in /home/jadi/anaconda3/envs/google-palm-env/lib/python3.11/site-packages (from langchain) (0.6.1)\n",
      "Requirement already satisfied: jsonpatch<2.0,>=1.33 in /home/jadi/anaconda3/envs/google-palm-env/lib/python3.11/site-packages (from langchain) (1.33)\n",
      "Requirement already satisfied: langsmith<0.1.0,>=0.0.52 in /home/jadi/anaconda3/envs/google-palm-env/lib/python3.11/site-packages (from langchain) (0.0.59)\n",
      "Requirement already satisfied: numpy<2,>=1 in /home/jadi/anaconda3/envs/google-palm-env/lib/python3.11/site-packages (from langchain) (1.26.0)\n",
      "Requirement already satisfied: pydantic<3,>=1 in /home/jadi/anaconda3/envs/google-palm-env/lib/python3.11/site-packages (from langchain) (2.4.2)\n",
      "Requirement already satisfied: requests<3,>=2 in /home/jadi/anaconda3/envs/google-palm-env/lib/python3.11/site-packages (from langchain) (2.31.0)\n",
      "Requirement already satisfied: tenacity<9.0.0,>=8.1.0 in /home/jadi/anaconda3/envs/google-palm-env/lib/python3.11/site-packages (from langchain) (8.2.3)\n",
      "Requirement already satisfied: attrs>=17.3.0 in /home/jadi/anaconda3/envs/google-palm-env/lib/python3.11/site-packages (from aiohttp<4.0.0,>=3.8.3->langchain) (23.1.0)\n",
      "Requirement already satisfied: charset-normalizer<4.0,>=2.0 in /home/jadi/anaconda3/envs/google-palm-env/lib/python3.11/site-packages (from aiohttp<4.0.0,>=3.8.3->langchain) (2.0.4)\n",
      "Requirement already satisfied: multidict<7.0,>=4.5 in /home/jadi/anaconda3/envs/google-palm-env/lib/python3.11/site-packages (from aiohttp<4.0.0,>=3.8.3->langchain) (6.0.4)\n",
      "Requirement already satisfied: async-timeout<5.0,>=4.0.0a3 in /home/jadi/anaconda3/envs/google-palm-env/lib/python3.11/site-packages (from aiohttp<4.0.0,>=3.8.3->langchain) (4.0.3)\n",
      "Requirement already satisfied: yarl<2.0,>=1.0 in /home/jadi/anaconda3/envs/google-palm-env/lib/python3.11/site-packages (from aiohttp<4.0.0,>=3.8.3->langchain) (1.9.2)\n",
      "Requirement already satisfied: frozenlist>=1.1.1 in /home/jadi/anaconda3/envs/google-palm-env/lib/python3.11/site-packages (from aiohttp<4.0.0,>=3.8.3->langchain) (1.4.0)\n",
      "Requirement already satisfied: aiosignal>=1.1.2 in /home/jadi/anaconda3/envs/google-palm-env/lib/python3.11/site-packages (from aiohttp<4.0.0,>=3.8.3->langchain) (1.3.1)\n",
      "Requirement already satisfied: idna>=2.8 in /home/jadi/anaconda3/envs/google-palm-env/lib/python3.11/site-packages (from anyio<4.0->langchain) (3.4)\n",
      "Requirement already satisfied: sniffio>=1.1 in /home/jadi/anaconda3/envs/google-palm-env/lib/python3.11/site-packages (from anyio<4.0->langchain) (1.2.0)\n",
      "Requirement already satisfied: marshmallow<4.0.0,>=3.18.0 in /home/jadi/anaconda3/envs/google-palm-env/lib/python3.11/site-packages (from dataclasses-json<0.7,>=0.5.7->langchain) (3.20.1)\n",
      "Requirement already satisfied: typing-inspect<1,>=0.4.0 in /home/jadi/anaconda3/envs/google-palm-env/lib/python3.11/site-packages (from dataclasses-json<0.7,>=0.5.7->langchain) (0.9.0)\n",
      "Requirement already satisfied: jsonpointer>=1.9 in /home/jadi/anaconda3/envs/google-palm-env/lib/python3.11/site-packages (from jsonpatch<2.0,>=1.33->langchain) (2.4)\n",
      "Requirement already satisfied: annotated-types>=0.4.0 in /home/jadi/anaconda3/envs/google-palm-env/lib/python3.11/site-packages (from pydantic<3,>=1->langchain) (0.6.0)\n",
      "Requirement already satisfied: pydantic-core==2.10.1 in /home/jadi/anaconda3/envs/google-palm-env/lib/python3.11/site-packages (from pydantic<3,>=1->langchain) (2.10.1)\n",
      "Requirement already satisfied: typing-extensions>=4.6.1 in /home/jadi/anaconda3/envs/google-palm-env/lib/python3.11/site-packages (from pydantic<3,>=1->langchain) (4.7.1)\n",
      "Requirement already satisfied: urllib3<3,>=1.21.1 in /home/jadi/anaconda3/envs/google-palm-env/lib/python3.11/site-packages (from requests<3,>=2->langchain) (1.26.18)\n",
      "Requirement already satisfied: certifi>=2017.4.17 in /home/jadi/anaconda3/envs/google-palm-env/lib/python3.11/site-packages (from requests<3,>=2->langchain) (2023.7.22)\n",
      "Requirement already satisfied: greenlet!=0.4.17 in /home/jadi/anaconda3/envs/google-palm-env/lib/python3.11/site-packages (from SQLAlchemy<3,>=1.4->langchain) (3.0.1)\n",
      "Requirement already satisfied: packaging>=17.0 in /home/jadi/anaconda3/envs/google-palm-env/lib/python3.11/site-packages (from marshmallow<4.0.0,>=3.18.0->dataclasses-json<0.7,>=0.5.7->langchain) (23.1)\n",
      "Requirement already satisfied: mypy-extensions>=0.3.0 in /home/jadi/anaconda3/envs/google-palm-env/lib/python3.11/site-packages (from typing-inspect<1,>=0.4.0->dataclasses-json<0.7,>=0.5.7->langchain) (1.0.0)\n",
      "Requirement already satisfied: pypdf in /home/jadi/anaconda3/envs/google-palm-env/lib/python3.11/site-packages (3.17.0)\n",
      "Requirement already satisfied: jupyter in /home/jadi/anaconda3/envs/google-palm-env/lib/python3.11/site-packages (1.0.0)\n",
      "Requirement already satisfied: notebook in /home/jadi/anaconda3/envs/google-palm-env/lib/python3.11/site-packages (from jupyter) (6.5.4)\n",
      "Requirement already satisfied: qtconsole in /home/jadi/anaconda3/envs/google-palm-env/lib/python3.11/site-packages (from jupyter) (5.5.0)\n",
      "Requirement already satisfied: jupyter-console in /home/jadi/anaconda3/envs/google-palm-env/lib/python3.11/site-packages (from jupyter) (6.6.3)\n",
      "Requirement already satisfied: nbconvert in /home/jadi/anaconda3/envs/google-palm-env/lib/python3.11/site-packages (from jupyter) (7.10.0)\n",
      "Requirement already satisfied: ipykernel in /home/jadi/anaconda3/envs/google-palm-env/lib/python3.11/site-packages (from jupyter) (6.25.0)\n",
      "Requirement already satisfied: ipywidgets in /home/jadi/anaconda3/envs/google-palm-env/lib/python3.11/site-packages (from jupyter) (8.1.1)\n",
      "Requirement already satisfied: comm>=0.1.1 in /home/jadi/anaconda3/envs/google-palm-env/lib/python3.11/site-packages (from ipykernel->jupyter) (0.2.0)\n",
      "Requirement already satisfied: debugpy>=1.6.5 in /home/jadi/anaconda3/envs/google-palm-env/lib/python3.11/site-packages (from ipykernel->jupyter) (1.6.7)\n",
      "Requirement already satisfied: ipython>=7.23.1 in /home/jadi/anaconda3/envs/google-palm-env/lib/python3.11/site-packages (from ipykernel->jupyter) (8.15.0)\n",
      "Requirement already satisfied: jupyter-client>=6.1.12 in /home/jadi/anaconda3/envs/google-palm-env/lib/python3.11/site-packages (from ipykernel->jupyter) (7.4.9)\n",
      "Requirement already satisfied: jupyter-core!=5.0.*,>=4.12 in /home/jadi/anaconda3/envs/google-palm-env/lib/python3.11/site-packages (from ipykernel->jupyter) (5.5.0)\n",
      "Requirement already satisfied: matplotlib-inline>=0.1 in /home/jadi/anaconda3/envs/google-palm-env/lib/python3.11/site-packages (from ipykernel->jupyter) (0.1.6)\n",
      "Requirement already satisfied: nest-asyncio in /home/jadi/anaconda3/envs/google-palm-env/lib/python3.11/site-packages (from ipykernel->jupyter) (1.5.6)\n",
      "Requirement already satisfied: packaging in /home/jadi/anaconda3/envs/google-palm-env/lib/python3.11/site-packages (from ipykernel->jupyter) (23.1)\n",
      "Requirement already satisfied: psutil in /home/jadi/anaconda3/envs/google-palm-env/lib/python3.11/site-packages (from ipykernel->jupyter) (5.9.0)\n",
      "Requirement already satisfied: pyzmq>=20 in /home/jadi/anaconda3/envs/google-palm-env/lib/python3.11/site-packages (from ipykernel->jupyter) (23.2.0)\n",
      "Requirement already satisfied: tornado>=6.1 in /home/jadi/anaconda3/envs/google-palm-env/lib/python3.11/site-packages (from ipykernel->jupyter) (6.3.3)\n",
      "Requirement already satisfied: traitlets>=5.4.0 in /home/jadi/anaconda3/envs/google-palm-env/lib/python3.11/site-packages (from ipykernel->jupyter) (5.7.1)\n",
      "Requirement already satisfied: widgetsnbextension~=4.0.9 in /home/jadi/anaconda3/envs/google-palm-env/lib/python3.11/site-packages (from ipywidgets->jupyter) (4.0.9)\n",
      "Requirement already satisfied: jupyterlab-widgets~=3.0.9 in /home/jadi/anaconda3/envs/google-palm-env/lib/python3.11/site-packages (from ipywidgets->jupyter) (3.0.9)\n",
      "Requirement already satisfied: prompt-toolkit>=3.0.30 in /home/jadi/anaconda3/envs/google-palm-env/lib/python3.11/site-packages (from jupyter-console->jupyter) (3.0.36)\n",
      "Requirement already satisfied: pygments in /home/jadi/anaconda3/envs/google-palm-env/lib/python3.11/site-packages (from jupyter-console->jupyter) (2.15.1)\n",
      "Requirement already satisfied: beautifulsoup4 in /home/jadi/anaconda3/envs/google-palm-env/lib/python3.11/site-packages (from nbconvert->jupyter) (4.12.2)\n",
      "Requirement already satisfied: bleach!=5.0.0 in /home/jadi/anaconda3/envs/google-palm-env/lib/python3.11/site-packages (from nbconvert->jupyter) (4.1.0)\n",
      "Requirement already satisfied: defusedxml in /home/jadi/anaconda3/envs/google-palm-env/lib/python3.11/site-packages (from nbconvert->jupyter) (0.7.1)\n",
      "Requirement already satisfied: jinja2>=3.0 in /home/jadi/anaconda3/envs/google-palm-env/lib/python3.11/site-packages (from nbconvert->jupyter) (3.1.2)\n",
      "Requirement already satisfied: jupyterlab-pygments in /home/jadi/anaconda3/envs/google-palm-env/lib/python3.11/site-packages (from nbconvert->jupyter) (0.1.2)\n",
      "Requirement already satisfied: markupsafe>=2.0 in /home/jadi/anaconda3/envs/google-palm-env/lib/python3.11/site-packages (from nbconvert->jupyter) (2.1.1)\n",
      "Requirement already satisfied: mistune<4,>=2.0.3 in /home/jadi/anaconda3/envs/google-palm-env/lib/python3.11/site-packages (from nbconvert->jupyter) (2.0.4)\n",
      "Requirement already satisfied: nbclient>=0.5.0 in /home/jadi/anaconda3/envs/google-palm-env/lib/python3.11/site-packages (from nbconvert->jupyter) (0.8.0)\n",
      "Requirement already satisfied: nbformat>=5.7 in /home/jadi/anaconda3/envs/google-palm-env/lib/python3.11/site-packages (from nbconvert->jupyter) (5.9.2)\n",
      "Requirement already satisfied: pandocfilters>=1.4.1 in /home/jadi/anaconda3/envs/google-palm-env/lib/python3.11/site-packages (from nbconvert->jupyter) (1.5.0)\n",
      "Requirement already satisfied: tinycss2 in /home/jadi/anaconda3/envs/google-palm-env/lib/python3.11/site-packages (from nbconvert->jupyter) (1.2.1)\n",
      "Requirement already satisfied: argon2-cffi in /home/jadi/anaconda3/envs/google-palm-env/lib/python3.11/site-packages (from notebook->jupyter) (21.3.0)\n",
      "Requirement already satisfied: ipython-genutils in /home/jadi/anaconda3/envs/google-palm-env/lib/python3.11/site-packages (from notebook->jupyter) (0.2.0)\n",
      "Requirement already satisfied: Send2Trash>=1.8.0 in /home/jadi/anaconda3/envs/google-palm-env/lib/python3.11/site-packages (from notebook->jupyter) (1.8.0)\n",
      "Requirement already satisfied: terminado>=0.8.3 in /home/jadi/anaconda3/envs/google-palm-env/lib/python3.11/site-packages (from notebook->jupyter) (0.17.1)\n",
      "Requirement already satisfied: prometheus-client in /home/jadi/anaconda3/envs/google-palm-env/lib/python3.11/site-packages (from notebook->jupyter) (0.14.1)\n",
      "Requirement already satisfied: nbclassic>=0.4.7 in /home/jadi/anaconda3/envs/google-palm-env/lib/python3.11/site-packages (from notebook->jupyter) (0.5.5)\n",
      "Requirement already satisfied: qtpy>=2.4.0 in /home/jadi/anaconda3/envs/google-palm-env/lib/python3.11/site-packages (from qtconsole->jupyter) (2.4.1)\n",
      "Requirement already satisfied: six>=1.9.0 in /home/jadi/anaconda3/envs/google-palm-env/lib/python3.11/site-packages (from bleach!=5.0.0->nbconvert->jupyter) (1.16.0)\n",
      "Requirement already satisfied: webencodings in /home/jadi/anaconda3/envs/google-palm-env/lib/python3.11/site-packages (from bleach!=5.0.0->nbconvert->jupyter) (0.5.1)\n",
      "Requirement already satisfied: backcall in /home/jadi/anaconda3/envs/google-palm-env/lib/python3.11/site-packages (from ipython>=7.23.1->ipykernel->jupyter) (0.2.0)\n",
      "Requirement already satisfied: decorator in /home/jadi/anaconda3/envs/google-palm-env/lib/python3.11/site-packages (from ipython>=7.23.1->ipykernel->jupyter) (5.1.1)\n",
      "Requirement already satisfied: jedi>=0.16 in /home/jadi/anaconda3/envs/google-palm-env/lib/python3.11/site-packages (from ipython>=7.23.1->ipykernel->jupyter) (0.18.1)\n",
      "Requirement already satisfied: pickleshare in /home/jadi/anaconda3/envs/google-palm-env/lib/python3.11/site-packages (from ipython>=7.23.1->ipykernel->jupyter) (0.7.5)\n",
      "Requirement already satisfied: stack-data in /home/jadi/anaconda3/envs/google-palm-env/lib/python3.11/site-packages (from ipython>=7.23.1->ipykernel->jupyter) (0.2.0)\n",
      "Requirement already satisfied: pexpect>4.3 in /home/jadi/anaconda3/envs/google-palm-env/lib/python3.11/site-packages (from ipython>=7.23.1->ipykernel->jupyter) (4.8.0)\n",
      "Requirement already satisfied: entrypoints in /home/jadi/anaconda3/envs/google-palm-env/lib/python3.11/site-packages (from jupyter-client>=6.1.12->ipykernel->jupyter) (0.4)\n",
      "Requirement already satisfied: python-dateutil>=2.8.2 in /home/jadi/anaconda3/envs/google-palm-env/lib/python3.11/site-packages (from jupyter-client>=6.1.12->ipykernel->jupyter) (2.8.2)\n",
      "Requirement already satisfied: platformdirs>=2.5 in /home/jadi/anaconda3/envs/google-palm-env/lib/python3.11/site-packages (from jupyter-core!=5.0.*,>=4.12->ipykernel->jupyter) (3.10.0)\n",
      "Requirement already satisfied: jupyter-server>=1.8 in /home/jadi/anaconda3/envs/google-palm-env/lib/python3.11/site-packages (from nbclassic>=0.4.7->notebook->jupyter) (1.23.4)\n",
      "Requirement already satisfied: notebook-shim>=0.1.0 in /home/jadi/anaconda3/envs/google-palm-env/lib/python3.11/site-packages (from nbclassic>=0.4.7->notebook->jupyter) (0.2.2)\n",
      "Requirement already satisfied: fastjsonschema in /home/jadi/anaconda3/envs/google-palm-env/lib/python3.11/site-packages (from nbformat>=5.7->nbconvert->jupyter) (2.16.2)\n",
      "Requirement already satisfied: jsonschema>=2.6 in /home/jadi/anaconda3/envs/google-palm-env/lib/python3.11/site-packages (from nbformat>=5.7->nbconvert->jupyter) (4.19.2)\n",
      "Requirement already satisfied: wcwidth in /home/jadi/anaconda3/envs/google-palm-env/lib/python3.11/site-packages (from prompt-toolkit>=3.0.30->jupyter-console->jupyter) (0.2.5)\n",
      "Requirement already satisfied: ptyprocess in /home/jadi/anaconda3/envs/google-palm-env/lib/python3.11/site-packages (from terminado>=0.8.3->notebook->jupyter) (0.7.0)\n",
      "Requirement already satisfied: argon2-cffi-bindings in /home/jadi/anaconda3/envs/google-palm-env/lib/python3.11/site-packages (from argon2-cffi->notebook->jupyter) (21.2.0)\n",
      "Requirement already satisfied: soupsieve>1.2 in /home/jadi/anaconda3/envs/google-palm-env/lib/python3.11/site-packages (from beautifulsoup4->nbconvert->jupyter) (2.5)\n",
      "Requirement already satisfied: parso<0.9.0,>=0.8.0 in /home/jadi/anaconda3/envs/google-palm-env/lib/python3.11/site-packages (from jedi>=0.16->ipython>=7.23.1->ipykernel->jupyter) (0.8.3)\n",
      "Requirement already satisfied: attrs>=22.2.0 in /home/jadi/anaconda3/envs/google-palm-env/lib/python3.11/site-packages (from jsonschema>=2.6->nbformat>=5.7->nbconvert->jupyter) (23.1.0)\n",
      "Requirement already satisfied: jsonschema-specifications>=2023.03.6 in /home/jadi/anaconda3/envs/google-palm-env/lib/python3.11/site-packages (from jsonschema>=2.6->nbformat>=5.7->nbconvert->jupyter) (2023.7.1)\n",
      "Requirement already satisfied: referencing>=0.28.4 in /home/jadi/anaconda3/envs/google-palm-env/lib/python3.11/site-packages (from jsonschema>=2.6->nbformat>=5.7->nbconvert->jupyter) (0.30.2)\n",
      "Requirement already satisfied: rpds-py>=0.7.1 in /home/jadi/anaconda3/envs/google-palm-env/lib/python3.11/site-packages (from jsonschema>=2.6->nbformat>=5.7->nbconvert->jupyter) (0.10.6)\n",
      "Requirement already satisfied: anyio<4,>=3.1.0 in /home/jadi/anaconda3/envs/google-palm-env/lib/python3.11/site-packages (from jupyter-server>=1.8->nbclassic>=0.4.7->notebook->jupyter) (3.5.0)\n",
      "Requirement already satisfied: websocket-client in /home/jadi/anaconda3/envs/google-palm-env/lib/python3.11/site-packages (from jupyter-server>=1.8->nbclassic>=0.4.7->notebook->jupyter) (0.58.0)\n",
      "Requirement already satisfied: cffi>=1.0.1 in /home/jadi/anaconda3/envs/google-palm-env/lib/python3.11/site-packages (from argon2-cffi-bindings->argon2-cffi->notebook->jupyter) (1.15.1)\n",
      "Requirement already satisfied: executing in /home/jadi/anaconda3/envs/google-palm-env/lib/python3.11/site-packages (from stack-data->ipython>=7.23.1->ipykernel->jupyter) (0.8.3)\n",
      "Requirement already satisfied: asttokens in /home/jadi/anaconda3/envs/google-palm-env/lib/python3.11/site-packages (from stack-data->ipython>=7.23.1->ipykernel->jupyter) (2.0.5)\n",
      "Requirement already satisfied: pure-eval in /home/jadi/anaconda3/envs/google-palm-env/lib/python3.11/site-packages (from stack-data->ipython>=7.23.1->ipykernel->jupyter) (0.2.2)\n",
      "Requirement already satisfied: idna>=2.8 in /home/jadi/anaconda3/envs/google-palm-env/lib/python3.11/site-packages (from anyio<4,>=3.1.0->jupyter-server>=1.8->nbclassic>=0.4.7->notebook->jupyter) (3.4)\n",
      "Requirement already satisfied: sniffio>=1.1 in /home/jadi/anaconda3/envs/google-palm-env/lib/python3.11/site-packages (from anyio<4,>=3.1.0->jupyter-server>=1.8->nbclassic>=0.4.7->notebook->jupyter) (1.2.0)\n",
      "Requirement already satisfied: pycparser in /home/jadi/anaconda3/envs/google-palm-env/lib/python3.11/site-packages (from cffi>=1.0.1->argon2-cffi-bindings->argon2-cffi->notebook->jupyter) (2.21)\n",
      "Requirement already satisfied: InstructorEmbedding in /home/jadi/anaconda3/envs/google-palm-env/lib/python3.11/site-packages (1.0.1)\n",
      "Requirement already satisfied: transformers in /home/jadi/anaconda3/envs/google-palm-env/lib/python3.11/site-packages (4.35.0)\n",
      "Requirement already satisfied: filelock in /home/jadi/anaconda3/envs/google-palm-env/lib/python3.11/site-packages (from transformers) (3.13.1)\n",
      "Requirement already satisfied: huggingface-hub<1.0,>=0.16.4 in /home/jadi/anaconda3/envs/google-palm-env/lib/python3.11/site-packages (from transformers) (0.17.3)\n",
      "Requirement already satisfied: numpy>=1.17 in /home/jadi/anaconda3/envs/google-palm-env/lib/python3.11/site-packages (from transformers) (1.26.0)\n",
      "Requirement already satisfied: packaging>=20.0 in /home/jadi/anaconda3/envs/google-palm-env/lib/python3.11/site-packages (from transformers) (23.1)\n",
      "Requirement already satisfied: pyyaml>=5.1 in /home/jadi/anaconda3/envs/google-palm-env/lib/python3.11/site-packages (from transformers) (6.0.1)\n",
      "Requirement already satisfied: regex!=2019.12.17 in /home/jadi/anaconda3/envs/google-palm-env/lib/python3.11/site-packages (from transformers) (2023.10.3)\n",
      "Requirement already satisfied: requests in /home/jadi/anaconda3/envs/google-palm-env/lib/python3.11/site-packages (from transformers) (2.31.0)\n",
      "Requirement already satisfied: tokenizers<0.15,>=0.14 in /home/jadi/anaconda3/envs/google-palm-env/lib/python3.11/site-packages (from transformers) (0.14.1)\n",
      "Requirement already satisfied: safetensors>=0.3.1 in /home/jadi/anaconda3/envs/google-palm-env/lib/python3.11/site-packages (from transformers) (0.4.0)\n",
      "Requirement already satisfied: tqdm>=4.27 in /home/jadi/anaconda3/envs/google-palm-env/lib/python3.11/site-packages (from transformers) (4.66.1)\n",
      "Requirement already satisfied: fsspec in /home/jadi/anaconda3/envs/google-palm-env/lib/python3.11/site-packages (from huggingface-hub<1.0,>=0.16.4->transformers) (2023.10.0)\n",
      "Requirement already satisfied: typing-extensions>=3.7.4.3 in /home/jadi/anaconda3/envs/google-palm-env/lib/python3.11/site-packages (from huggingface-hub<1.0,>=0.16.4->transformers) (4.7.1)\n",
      "Requirement already satisfied: charset-normalizer<4,>=2 in /home/jadi/anaconda3/envs/google-palm-env/lib/python3.11/site-packages (from requests->transformers) (2.0.4)\n",
      "Requirement already satisfied: idna<4,>=2.5 in /home/jadi/anaconda3/envs/google-palm-env/lib/python3.11/site-packages (from requests->transformers) (3.4)\n",
      "Requirement already satisfied: urllib3<3,>=1.21.1 in /home/jadi/anaconda3/envs/google-palm-env/lib/python3.11/site-packages (from requests->transformers) (1.26.18)\n",
      "Requirement already satisfied: certifi>=2017.4.17 in /home/jadi/anaconda3/envs/google-palm-env/lib/python3.11/site-packages (from requests->transformers) (2023.7.22)\n",
      "Requirement already satisfied: huggingface in /home/jadi/anaconda3/envs/google-palm-env/lib/python3.11/site-packages (0.0.1)\n",
      "Requirement already satisfied: torch in /home/jadi/anaconda3/envs/google-palm-env/lib/python3.11/site-packages (2.1.0)\n",
      "Requirement already satisfied: filelock in /home/jadi/anaconda3/envs/google-palm-env/lib/python3.11/site-packages (from torch) (3.13.1)\n",
      "Requirement already satisfied: typing-extensions in /home/jadi/anaconda3/envs/google-palm-env/lib/python3.11/site-packages (from torch) (4.7.1)\n",
      "Requirement already satisfied: sympy in /home/jadi/anaconda3/envs/google-palm-env/lib/python3.11/site-packages (from torch) (1.12)\n",
      "Requirement already satisfied: networkx in /home/jadi/anaconda3/envs/google-palm-env/lib/python3.11/site-packages (from torch) (3.2.1)\n",
      "Requirement already satisfied: jinja2 in /home/jadi/anaconda3/envs/google-palm-env/lib/python3.11/site-packages (from torch) (3.1.2)\n",
      "Requirement already satisfied: fsspec in /home/jadi/anaconda3/envs/google-palm-env/lib/python3.11/site-packages (from torch) (2023.10.0)\n",
      "Requirement already satisfied: nvidia-cuda-nvrtc-cu12==12.1.105 in /home/jadi/anaconda3/envs/google-palm-env/lib/python3.11/site-packages (from torch) (12.1.105)\n",
      "Requirement already satisfied: nvidia-cuda-runtime-cu12==12.1.105 in /home/jadi/anaconda3/envs/google-palm-env/lib/python3.11/site-packages (from torch) (12.1.105)\n",
      "Requirement already satisfied: nvidia-cuda-cupti-cu12==12.1.105 in /home/jadi/anaconda3/envs/google-palm-env/lib/python3.11/site-packages (from torch) (12.1.105)\n",
      "Requirement already satisfied: nvidia-cudnn-cu12==8.9.2.26 in /home/jadi/anaconda3/envs/google-palm-env/lib/python3.11/site-packages (from torch) (8.9.2.26)\n",
      "Requirement already satisfied: nvidia-cublas-cu12==12.1.3.1 in /home/jadi/anaconda3/envs/google-palm-env/lib/python3.11/site-packages (from torch) (12.1.3.1)\n",
      "Requirement already satisfied: nvidia-cufft-cu12==11.0.2.54 in /home/jadi/anaconda3/envs/google-palm-env/lib/python3.11/site-packages (from torch) (11.0.2.54)\n",
      "Requirement already satisfied: nvidia-curand-cu12==10.3.2.106 in /home/jadi/anaconda3/envs/google-palm-env/lib/python3.11/site-packages (from torch) (10.3.2.106)\n",
      "Requirement already satisfied: nvidia-cusolver-cu12==11.4.5.107 in /home/jadi/anaconda3/envs/google-palm-env/lib/python3.11/site-packages (from torch) (11.4.5.107)\n",
      "Requirement already satisfied: nvidia-cusparse-cu12==12.1.0.106 in /home/jadi/anaconda3/envs/google-palm-env/lib/python3.11/site-packages (from torch) (12.1.0.106)\n",
      "Requirement already satisfied: nvidia-nccl-cu12==2.18.1 in /home/jadi/anaconda3/envs/google-palm-env/lib/python3.11/site-packages (from torch) (2.18.1)\n",
      "Requirement already satisfied: nvidia-nvtx-cu12==12.1.105 in /home/jadi/anaconda3/envs/google-palm-env/lib/python3.11/site-packages (from torch) (12.1.105)\n",
      "Requirement already satisfied: triton==2.1.0 in /home/jadi/anaconda3/envs/google-palm-env/lib/python3.11/site-packages (from torch) (2.1.0)\n",
      "Requirement already satisfied: nvidia-nvjitlink-cu12 in /home/jadi/anaconda3/envs/google-palm-env/lib/python3.11/site-packages (from nvidia-cusolver-cu12==11.4.5.107->torch) (12.3.52)\n",
      "Requirement already satisfied: MarkupSafe>=2.0 in /home/jadi/anaconda3/envs/google-palm-env/lib/python3.11/site-packages (from jinja2->torch) (2.1.1)\n",
      "Requirement already satisfied: mpmath>=0.19 in /home/jadi/anaconda3/envs/google-palm-env/lib/python3.11/site-packages (from sympy->torch) (1.3.0)\n",
      "Requirement already satisfied: sentence_transformers in /home/jadi/anaconda3/envs/google-palm-env/lib/python3.11/site-packages (2.2.2)\n",
      "Requirement already satisfied: transformers<5.0.0,>=4.6.0 in /home/jadi/anaconda3/envs/google-palm-env/lib/python3.11/site-packages (from sentence_transformers) (4.35.0)\n",
      "Requirement already satisfied: tqdm in /home/jadi/anaconda3/envs/google-palm-env/lib/python3.11/site-packages (from sentence_transformers) (4.66.1)\n",
      "Requirement already satisfied: torch>=1.6.0 in /home/jadi/anaconda3/envs/google-palm-env/lib/python3.11/site-packages (from sentence_transformers) (2.1.0)\n",
      "Requirement already satisfied: torchvision in /home/jadi/anaconda3/envs/google-palm-env/lib/python3.11/site-packages (from sentence_transformers) (0.16.0)\n",
      "Requirement already satisfied: numpy in /home/jadi/anaconda3/envs/google-palm-env/lib/python3.11/site-packages (from sentence_transformers) (1.26.0)\n",
      "Requirement already satisfied: scikit-learn in /home/jadi/anaconda3/envs/google-palm-env/lib/python3.11/site-packages (from sentence_transformers) (1.3.2)\n",
      "Requirement already satisfied: scipy in /home/jadi/anaconda3/envs/google-palm-env/lib/python3.11/site-packages (from sentence_transformers) (1.11.3)\n",
      "Requirement already satisfied: nltk in /home/jadi/anaconda3/envs/google-palm-env/lib/python3.11/site-packages (from sentence_transformers) (3.8.1)\n",
      "Requirement already satisfied: sentencepiece in /home/jadi/anaconda3/envs/google-palm-env/lib/python3.11/site-packages (from sentence_transformers) (0.1.99)\n",
      "Requirement already satisfied: huggingface-hub>=0.4.0 in /home/jadi/anaconda3/envs/google-palm-env/lib/python3.11/site-packages (from sentence_transformers) (0.17.3)\n",
      "Requirement already satisfied: filelock in /home/jadi/anaconda3/envs/google-palm-env/lib/python3.11/site-packages (from huggingface-hub>=0.4.0->sentence_transformers) (3.13.1)\n",
      "Requirement already satisfied: fsspec in /home/jadi/anaconda3/envs/google-palm-env/lib/python3.11/site-packages (from huggingface-hub>=0.4.0->sentence_transformers) (2023.10.0)\n",
      "Requirement already satisfied: requests in /home/jadi/anaconda3/envs/google-palm-env/lib/python3.11/site-packages (from huggingface-hub>=0.4.0->sentence_transformers) (2.31.0)\n",
      "Requirement already satisfied: pyyaml>=5.1 in /home/jadi/anaconda3/envs/google-palm-env/lib/python3.11/site-packages (from huggingface-hub>=0.4.0->sentence_transformers) (6.0.1)\n",
      "Requirement already satisfied: typing-extensions>=3.7.4.3 in /home/jadi/anaconda3/envs/google-palm-env/lib/python3.11/site-packages (from huggingface-hub>=0.4.0->sentence_transformers) (4.7.1)\n",
      "Requirement already satisfied: packaging>=20.9 in /home/jadi/anaconda3/envs/google-palm-env/lib/python3.11/site-packages (from huggingface-hub>=0.4.0->sentence_transformers) (23.1)\n",
      "Requirement already satisfied: sympy in /home/jadi/anaconda3/envs/google-palm-env/lib/python3.11/site-packages (from torch>=1.6.0->sentence_transformers) (1.12)\n",
      "Requirement already satisfied: networkx in /home/jadi/anaconda3/envs/google-palm-env/lib/python3.11/site-packages (from torch>=1.6.0->sentence_transformers) (3.2.1)\n",
      "Requirement already satisfied: jinja2 in /home/jadi/anaconda3/envs/google-palm-env/lib/python3.11/site-packages (from torch>=1.6.0->sentence_transformers) (3.1.2)\n",
      "Requirement already satisfied: nvidia-cuda-nvrtc-cu12==12.1.105 in /home/jadi/anaconda3/envs/google-palm-env/lib/python3.11/site-packages (from torch>=1.6.0->sentence_transformers) (12.1.105)\n",
      "Requirement already satisfied: nvidia-cuda-runtime-cu12==12.1.105 in /home/jadi/anaconda3/envs/google-palm-env/lib/python3.11/site-packages (from torch>=1.6.0->sentence_transformers) (12.1.105)\n",
      "Requirement already satisfied: nvidia-cuda-cupti-cu12==12.1.105 in /home/jadi/anaconda3/envs/google-palm-env/lib/python3.11/site-packages (from torch>=1.6.0->sentence_transformers) (12.1.105)\n",
      "Requirement already satisfied: nvidia-cudnn-cu12==8.9.2.26 in /home/jadi/anaconda3/envs/google-palm-env/lib/python3.11/site-packages (from torch>=1.6.0->sentence_transformers) (8.9.2.26)\n",
      "Requirement already satisfied: nvidia-cublas-cu12==12.1.3.1 in /home/jadi/anaconda3/envs/google-palm-env/lib/python3.11/site-packages (from torch>=1.6.0->sentence_transformers) (12.1.3.1)\n",
      "Requirement already satisfied: nvidia-cufft-cu12==11.0.2.54 in /home/jadi/anaconda3/envs/google-palm-env/lib/python3.11/site-packages (from torch>=1.6.0->sentence_transformers) (11.0.2.54)\n",
      "Requirement already satisfied: nvidia-curand-cu12==10.3.2.106 in /home/jadi/anaconda3/envs/google-palm-env/lib/python3.11/site-packages (from torch>=1.6.0->sentence_transformers) (10.3.2.106)\n",
      "Requirement already satisfied: nvidia-cusolver-cu12==11.4.5.107 in /home/jadi/anaconda3/envs/google-palm-env/lib/python3.11/site-packages (from torch>=1.6.0->sentence_transformers) (11.4.5.107)\n",
      "Requirement already satisfied: nvidia-cusparse-cu12==12.1.0.106 in /home/jadi/anaconda3/envs/google-palm-env/lib/python3.11/site-packages (from torch>=1.6.0->sentence_transformers) (12.1.0.106)\n",
      "Requirement already satisfied: nvidia-nccl-cu12==2.18.1 in /home/jadi/anaconda3/envs/google-palm-env/lib/python3.11/site-packages (from torch>=1.6.0->sentence_transformers) (2.18.1)\n",
      "Requirement already satisfied: nvidia-nvtx-cu12==12.1.105 in /home/jadi/anaconda3/envs/google-palm-env/lib/python3.11/site-packages (from torch>=1.6.0->sentence_transformers) (12.1.105)\n",
      "Requirement already satisfied: triton==2.1.0 in /home/jadi/anaconda3/envs/google-palm-env/lib/python3.11/site-packages (from torch>=1.6.0->sentence_transformers) (2.1.0)\n",
      "Requirement already satisfied: nvidia-nvjitlink-cu12 in /home/jadi/anaconda3/envs/google-palm-env/lib/python3.11/site-packages (from nvidia-cusolver-cu12==11.4.5.107->torch>=1.6.0->sentence_transformers) (12.3.52)\n",
      "Requirement already satisfied: regex!=2019.12.17 in /home/jadi/anaconda3/envs/google-palm-env/lib/python3.11/site-packages (from transformers<5.0.0,>=4.6.0->sentence_transformers) (2023.10.3)\n",
      "Requirement already satisfied: tokenizers<0.15,>=0.14 in /home/jadi/anaconda3/envs/google-palm-env/lib/python3.11/site-packages (from transformers<5.0.0,>=4.6.0->sentence_transformers) (0.14.1)\n",
      "Requirement already satisfied: safetensors>=0.3.1 in /home/jadi/anaconda3/envs/google-palm-env/lib/python3.11/site-packages (from transformers<5.0.0,>=4.6.0->sentence_transformers) (0.4.0)\n",
      "Requirement already satisfied: click in /home/jadi/anaconda3/envs/google-palm-env/lib/python3.11/site-packages (from nltk->sentence_transformers) (8.1.7)\n",
      "Requirement already satisfied: joblib in /home/jadi/anaconda3/envs/google-palm-env/lib/python3.11/site-packages (from nltk->sentence_transformers) (1.3.2)\n",
      "Requirement already satisfied: threadpoolctl>=2.0.0 in /home/jadi/anaconda3/envs/google-palm-env/lib/python3.11/site-packages (from scikit-learn->sentence_transformers) (3.2.0)\n",
      "Requirement already satisfied: pillow!=8.3.*,>=5.3.0 in /home/jadi/anaconda3/envs/google-palm-env/lib/python3.11/site-packages (from torchvision->sentence_transformers) (10.0.1)\n",
      "Requirement already satisfied: MarkupSafe>=2.0 in /home/jadi/anaconda3/envs/google-palm-env/lib/python3.11/site-packages (from jinja2->torch>=1.6.0->sentence_transformers) (2.1.1)\n",
      "Requirement already satisfied: charset-normalizer<4,>=2 in /home/jadi/anaconda3/envs/google-palm-env/lib/python3.11/site-packages (from requests->huggingface-hub>=0.4.0->sentence_transformers) (2.0.4)\n",
      "Requirement already satisfied: idna<4,>=2.5 in /home/jadi/anaconda3/envs/google-palm-env/lib/python3.11/site-packages (from requests->huggingface-hub>=0.4.0->sentence_transformers) (3.4)\n",
      "Requirement already satisfied: urllib3<3,>=1.21.1 in /home/jadi/anaconda3/envs/google-palm-env/lib/python3.11/site-packages (from requests->huggingface-hub>=0.4.0->sentence_transformers) (1.26.18)\n",
      "Requirement already satisfied: certifi>=2017.4.17 in /home/jadi/anaconda3/envs/google-palm-env/lib/python3.11/site-packages (from requests->huggingface-hub>=0.4.0->sentence_transformers) (2023.7.22)\n",
      "Requirement already satisfied: mpmath>=0.19 in /home/jadi/anaconda3/envs/google-palm-env/lib/python3.11/site-packages (from sympy->torch>=1.6.0->sentence_transformers) (1.3.0)\n"
     ]
    }
   ],
   "source": [
    "!pip install google-generativeai\n",
    "!pip install langchain\n",
    "!pip install pypdf\n",
    "!pip install jupyter\n",
    "!pip install InstructorEmbedding\n",
    "!pip install transformers\n",
    "!pip install huggingface\n",
    "!pip install torch\n",
    "!pip install sentence_transformers"
   ]
  },
  {
   "cell_type": "markdown",
   "id": "13d1850f",
   "metadata": {},
   "source": [
    "### Code"
   ]
  },
  {
   "cell_type": "code",
   "execution_count": 1,
   "id": "d23023bd",
   "metadata": {
    "tags": []
   },
   "outputs": [],
   "source": [
    "from langchain.llms import GooglePalm\n",
    "\n",
    "llm = GooglePalm(google_api_key='', temperature=0.7)"
   ]
  },
  {
   "cell_type": "code",
   "execution_count": 2,
   "id": "68afe679",
   "metadata": {
    "tags": []
   },
   "outputs": [],
   "source": [
    "# ai_intro = llm(\"Write about the Artificial Intelligence in 2023\")\n",
    "# print(ai_intro)"
   ]
  },
  {
   "cell_type": "code",
   "execution_count": 3,
   "id": "11b60886",
   "metadata": {
    "tags": []
   },
   "outputs": [],
   "source": [
    "from langchain.document_loaders.csv_loader import CSVLoader\n",
    "\n",
    "loader = CSVLoader(file_path='codebasics_faqs.csv', source_column='prompt')\n",
    "data = loader.load()"
   ]
  },
  {
   "cell_type": "code",
   "execution_count": 4,
   "id": "9534ec91",
   "metadata": {
    "tags": []
   },
   "outputs": [],
   "source": [
    "import torch\n",
    "\n",
    "# Before starting your training loop\n",
    "torch.cuda.empty_cache()"
   ]
  },
  {
   "cell_type": "code",
   "execution_count": null,
   "id": "74d0206b",
   "metadata": {
    "tags": []
   },
   "outputs": [],
   "source": [
    "    "
   ]
  },
  {
   "cell_type": "code",
   "execution_count": 5,
   "id": "4b3e2c16",
   "metadata": {
    "tags": []
   },
   "outputs": [
    {
     "name": "stdout",
     "output_type": "stream",
     "text": [
      "load INSTRUCTOR_Transformer\n",
      "max_seq_length  512\n"
     ]
    }
   ],
   "source": [
    "from langchain.embeddings import HuggingFaceInstructEmbeddings\n",
    "from langchain.vectorstores import FAISS\n",
    "\n",
    "instructor_embeddings = HuggingFaceInstructEmbeddings()\n",
    "\n",
    "vectordb = FAISS.from_documents(documents=data, embedding=instructor_embeddings)\n"
   ]
  },
  {
   "cell_type": "code",
   "execution_count": 6,
   "id": "f2ebf8ad",
   "metadata": {
    "tags": []
   },
   "outputs": [
    {
     "name": "stdout",
     "output_type": "stream",
     "text": [
      "[Document(page_content='prompt: What career services are available for graduating students?\\nresponse: FAST-NUCES provides comprehensive career services for graduating students, including resume building, interview preparation, and job placement assistance. The university has strong connections with leading employers.', metadata={'source': 'What career services are available for graduating students?', 'row': 21}), Document(page_content=\"prompt: Are there any specific internship programs for Computer Science students?\\nresponse: Yes, FAST-NUCES facilitates internships for Computer Science students through collaborations with industry partners. The university's career services office assists students in securing relevant internships.\", metadata={'source': 'Are there any specific internship programs for Computer Science students?', 'row': 3}), Document(page_content='prompt: What support does FAST-NUCES provide for students with entrepreneurial ideas?\\nresponse: FAST-NUCES supports students with entrepreneurial ideas through startup incubation, mentorship programs, and access to funding opportunities. The university encourages innovation and creativity.', metadata={'source': 'What support does FAST-NUCES provide for students with entrepreneurial ideas?', 'row': 13}), Document(page_content='prompt: Is there a mentorship program for incoming students?\\nresponse: Yes, FAST-NUCES has a mentorship program to support incoming students. New students are paired with experienced mentors who provide guidance, advice, and assistance with the academic transition.', metadata={'source': 'Is there a mentorship program for incoming students?', 'row': 15})]\n"
     ]
    }
   ],
   "source": [
    "retriever = vectordb.as_retriever()\n",
    "\n",
    "rdocs = retriever.get_relevant_documents(\"how about job placement support\")\n",
    "print(rdocs)"
   ]
  },
  {
   "cell_type": "code",
   "execution_count": null,
   "id": "b1cccee5",
   "metadata": {
    "tags": []
   },
   "outputs": [],
   "source": [
    "from langchain.prompts import PromptTemplate\n",
    "\n",
    "prompt_template = \"\"\"Given the following context and a question, generate an answer based on this context only.\n",
    "In the answer try to provide as much text as possible from \"response\" section in the source document context without making much changes.\n",
    "If the answer is not found in the context, kindly state \"I don't know.\" Don't try to make up an answer.\n",
    "\n",
    "CONTEXT: {context}\n",
    "\n",
    "QUESTION: {question}\"\"\"\n",
    "\n",
    "PROMPT = PromptTemplate(\n",
    "    template=prompt_template, input_variables=[\"context\", \"question\"]\n",
    ")"
   ]
  },
  {
   "cell_type": "code",
   "execution_count": 8,
   "id": "01f78ccd",
   "metadata": {
    "tags": []
   },
   "outputs": [],
   "source": [
    "from langchain.chains import RetrievalQA\n",
    "\n",
    "chain = RetrievalQA.from_chain_type(llm=llm, \n",
    "            chain_type=\"stuff\",\n",
    "            retriever=retriever,\n",
    "            input_key=\"query\",\n",
    "            return_source_documents=True,\n",
    "            chain_type_kwargs={\"prompt\": PROMPT})"
   ]
  },
  {
   "cell_type": "code",
   "execution_count": 9,
   "id": "486d6d69",
   "metadata": {
    "tags": []
   },
   "outputs": [
    {
     "data": {
      "text/plain": [
       "{'query': 'do you have a plain of launching blockchain course',\n",
       " 'result': \" I don't know.\",\n",
       " 'source_documents': [Document(page_content='prompt: Is there a mentorship program for incoming students?\\nresponse: Yes, FAST-NUCES has a mentorship program to support incoming students. New students are paired with experienced mentors who provide guidance, advice, and assistance with the academic transition.', metadata={'source': 'Is there a mentorship program for incoming students?', 'row': 15}),\n",
       "  Document(page_content='prompt: Describe the startup ecosystem at FAST-NUCES.\\nresponse: FAST-NUCES has a thriving startup ecosystem supported by dedicated entrepreneurship centers. Students with entrepreneurial aspirations can access mentorship, funding, and resources to launch their startups.', metadata={'source': 'Describe the startup ecosystem at FAST-NUCES.', 'row': 9}),\n",
       "  Document(page_content=\"prompt: Are there any specific internship programs for Computer Science students?\\nresponse: Yes, FAST-NUCES facilitates internships for Computer Science students through collaborations with industry partners. The university's career services office assists students in securing relevant internships.\", metadata={'source': 'Are there any specific internship programs for Computer Science students?', 'row': 3}),\n",
       "  Document(page_content='prompt: Tell me about the admission requirements for the Computer Science program.\\nresponse: For the Computer Science program at FAST-NUCES, admission requirements include the FAST Entry Test (FET), academic qualifications, and an interview. Specific details can be found on the official admission portal.', metadata={'source': 'Tell me about the admission requirements for the Computer Science program.', 'row': 1})]}"
      ]
     },
     "execution_count": 9,
     "metadata": {},
     "output_type": "execute_result"
    }
   ],
   "source": [
    "chain(\"do you have a plain of launching blockchain course\")"
   ]
  },
  {
   "cell_type": "code",
   "execution_count": null,
   "id": "28a4feb2",
   "metadata": {},
   "outputs": [],
   "source": []
  },
  {
   "cell_type": "code",
   "execution_count": null,
   "id": "0cec78b8",
   "metadata": {},
   "outputs": [],
   "source": []
  }
 ],
 "metadata": {
  "kernelspec": {
   "display_name": "Python 3 (ipykernel)",
   "language": "python",
   "name": "python3"
  },
  "language_info": {
   "codemirror_mode": {
    "name": "ipython",
    "version": 3
   },
   "file_extension": ".py",
   "mimetype": "text/x-python",
   "name": "python",
   "nbconvert_exporter": "python",
   "pygments_lexer": "ipython3",
   "version": "3.11.5"
  }
 },
 "nbformat": 4,
 "nbformat_minor": 5
}
